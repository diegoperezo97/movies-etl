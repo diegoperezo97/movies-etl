{
 "cells": [
  {
   "cell_type": "code",
   "execution_count": 1,
   "metadata": {},
   "outputs": [],
   "source": [
    "import pandas as pd\n",
    "import re\n",
    "pd.options.display.max_colwidth = 100"
   ]
  },
  {
   "cell_type": "code",
   "execution_count": 2,
   "metadata": {},
   "outputs": [],
   "source": [
    "# Set variables to text files:\n",
    "alice_text = \"/Users/diegoperezo97/Documents/Tecnológico de Monterrey – Data Analytics Boot Camp/movies-etl/Module 8/Wednesday, February 16th 2022/8-2-Student_Resources/08-Evr_FunctionalRegex/Resources/alice.txt\"\n",
    "sherlock_text = \"/Users/diegoperezo97/Documents/Tecnológico de Monterrey – Data Analytics Boot Camp/movies-etl/Module 8/Wednesday, February 16th 2022/8-2-Student_Resources/08-Evr_FunctionalRegex/Resources/sherlock.txt\""
   ]
  },
  {
   "cell_type": "code",
   "execution_count": 3,
   "metadata": {},
   "outputs": [],
   "source": [
    "# Create a function to find how many questions are asked in a text:\n",
    "def question_counts(text_file):\n",
    "    text_df = pd.read_csv(text_file, sep=\"\\n\", header=None)\n",
    "    text_df.columns = [\"text\"]\n",
    "    \n",
    "    # REGEX:\n",
    "    p = \"\\?$\"\n",
    "    question_df = text_df[text_df[\"text\"].str.contains(p)]\n",
    "    print(question_df)\n",
    "    \n",
    "    return len(question_df)"
   ]
  },
  {
   "cell_type": "code",
   "execution_count": 4,
   "metadata": {},
   "outputs": [
    {
     "name": "stdout",
     "output_type": "stream",
     "text": [
      "                                                                        text\n",
      "295   ‘Would it be of any use, now,’ thought Alice, ‘to speak to this mouse?\n",
      "839                         Do you think I can listen all day to such stuff?\n",
      "1925      They are waiting on the shingle--will you come and join the dance?\n",
      "1926      Will you, won’t you, will you, won’t you, will you join the dance?\n",
      "1927     Will you, won’t you, will you, won’t you, won’t you join the dance?\n",
      "1938      Will you, won’t you, will you, won’t you, will you join the dance?\n",
      "2063                                  Who for such dainties would not stoop?\n",
      "2071                                                Game, or any other dish?\n",
      "2073                                      Pennyworth only of beautiful Soup?\n",
      "2074                                      Pennyworth only of beautiful Soup?\n",
      "2089                                        CHAPTER XI. Who Stole the Tarts?\n",
      "2364                                               What would become of you?\n",
      "12\n"
     ]
    }
   ],
   "source": [
    "# Print questions asked in the Alice text:\n",
    "print(question_counts(alice_text))"
   ]
  },
  {
   "cell_type": "code",
   "execution_count": 5,
   "metadata": {},
   "outputs": [
    {
     "name": "stdout",
     "output_type": "stream",
     "text": [
      "                                                                         text\n",
      "584    to do their own secreting. Why should she hand it over to anyone else?\n",
      "1377       me. What was this nocturnal expedition, and why should I go armed?\n",
      "1540       “It’s all clear,” he whispered. “Have you the chisel and the bags?\n",
      "1916     mine. And yet, what could have happened? And why could he not write?\n",
      "2467  “The Coroner: Did your father make any statement to you before he died?\n",
      "2470                           “The Coroner: What did you understand by that?\n",
      "2474                                                      this final quarrel?\n",
      "2484                                             between you and your father?\n",
      "2487              and before he even knew that you had returned from Bristol?\n",
      "2490       returned on hearing the cry and found your father fatally injured?\n",
      "2492                                          “The Coroner: What do you mean?\n",
      "2808     gun as the son stood listening. And this? Ha, ha! What have we here?\n",
      "3774                                                         him back to her?\n",
      "3782   it, at the Bar of Gold, in Upper Swandam Lane. But what was she to do?\n",
      "3784    and pluck her husband out from among the ruffians who surrounded him?\n",
      "4114   is no human eye which could have seen the deed. What would he do then?\n",
      "6647    to lie and look up at that deadly black shadow wavering down upon me?\n",
      "8394                                      who was it brought him the coronet?\n",
      "18\n"
     ]
    }
   ],
   "source": [
    "# Print Questions asked in the Holmes text:\n",
    "print(question_counts(sherlock_text))"
   ]
  },
  {
   "cell_type": "code",
   "execution_count": 6,
   "metadata": {},
   "outputs": [],
   "source": [
    "# Create a function that will create a DataFrame for all 6+ lengths word following a character:\n",
    "def word_count(text_file, character):\n",
    "    text_df = pd.read_csv(text_file, sep=\"\\n\", header=None)\n",
    "    text_df.columns = [\"text\"]\n",
    "    \n",
    "    # REGEX:\n",
    "    p = f\"({character})(\\s*\\w{{6,}})\"\n",
    "    print(p)\n",
    "    word_groups_df = text_df[\"text\"].str.extractall(p, flags=re.I)\n",
    "    \n",
    "    return word_groups_df[0]"
   ]
  },
  {
   "cell_type": "code",
   "execution_count": 7,
   "metadata": {},
   "outputs": [
    {
     "name": "stdout",
     "output_type": "stream",
     "text": [
      "(alice)(\\s*\\w{6,})\n",
      "      match\n",
      "18    0        Alice\n",
      "99    0        Alice\n",
      "127   0        Alice\n",
      "299   0        Alice\n",
      "311   0        Alice\n",
      "               ...  \n",
      "2243  0        Alice\n",
      "2264  0        Alice\n",
      "2284  0        Alice\n",
      "2417  0        Alice\n",
      "2443  0        Alice\n",
      "Name: 0, Length: 82, dtype: object\n"
     ]
    }
   ],
   "source": [
    "# Print the Word count for the character Alice:\n",
    "print(word_count(alice_text, \"alice\"))"
   ]
  },
  {
   "cell_type": "code",
   "execution_count": 8,
   "metadata": {},
   "outputs": [
    {
     "name": "stdout",
     "output_type": "stream",
     "text": [
      "(hatter)(\\s*\\w{6,})\n",
      "      match\n",
      "1199  0        Hatter\n",
      "1224  0        Hatter\n",
      "1253  0        Hatter\n",
      "1308  0        Hatter\n",
      "2153  0        Hatter\n",
      "2192  0        Hatter\n",
      "2199  0        Hatter\n",
      "2215  0        Hatter\n",
      "2236  0        Hatter\n",
      "Name: 0, dtype: object\n"
     ]
    }
   ],
   "source": [
    "# Print the Word count for the characters Hatter:\n",
    "print(word_count(alice_text, \"hatter\"))"
   ]
  },
  {
   "cell_type": "code",
   "execution_count": 9,
   "metadata": {},
   "outputs": [
    {
     "name": "stdout",
     "output_type": "stream",
     "text": [
      "(holmes)(\\s*\\w{6,})\n",
      "Series([], Name: 0, dtype: object)\n"
     ]
    }
   ],
   "source": [
    "# Print the Word count for the characters Holmes:\n",
    "print(word_count(alice_text, \"holmes\"))"
   ]
  }
 ],
 "metadata": {
  "kernelspec": {
   "display_name": "Python 3",
   "language": "python",
   "name": "python3"
  },
  "language_info": {
   "codemirror_mode": {
    "name": "ipython",
    "version": 3
   },
   "file_extension": ".py",
   "mimetype": "text/x-python",
   "name": "python",
   "nbconvert_exporter": "python",
   "pygments_lexer": "ipython3",
   "version": "3.9.7"
  }
 },
 "nbformat": 4,
 "nbformat_minor": 4
}
